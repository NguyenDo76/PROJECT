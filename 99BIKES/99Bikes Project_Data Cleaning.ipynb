{
  "cells": [
    {
      "cell_type": "markdown",
      "metadata": {
        "id": "Auj3Ga1jK9ZT"
      },
      "source": [
        "# **99Bikes**"
      ]
    },
    {
      "cell_type": "markdown",
      "metadata": {
        "id": "XjqWN-4mLLbl"
      },
      "source": [
        "## Preprocessing"
      ]
    },
    {
      "cell_type": "markdown",
      "metadata": {
        "id": "Ej_SyJl3LswD"
      },
      "source": [
        "### Importing Libraries and Data"
      ]
    },
    {
      "cell_type": "code",
      "execution_count": null,
      "metadata": {
        "colab": {
          "base_uri": "https://localhost:8080/",
          "height": 73
        },
        "id": "iJvEc7rlLv-u",
        "outputId": "2338ca67-55ff-4175-a6bf-acc605cfebf6"
      },
      "outputs": [
        {
          "output_type": "display_data",
          "data": {
            "text/plain": [
              "<IPython.core.display.HTML object>"
            ],
            "text/html": [
              "\n",
              "     <input type=\"file\" id=\"files-3b08359c-52a8-43f6-b8c9-cf6438bf0498\" name=\"files[]\" multiple disabled\n",
              "        style=\"border:none\" />\n",
              "     <output id=\"result-3b08359c-52a8-43f6-b8c9-cf6438bf0498\">\n",
              "      Upload widget is only available when the cell has been executed in the\n",
              "      current browser session. Please rerun this cell to enable.\n",
              "      </output>\n",
              "      <script>// Copyright 2017 Google LLC\n",
              "//\n",
              "// Licensed under the Apache License, Version 2.0 (the \"License\");\n",
              "// you may not use this file except in compliance with the License.\n",
              "// You may obtain a copy of the License at\n",
              "//\n",
              "//      http://www.apache.org/licenses/LICENSE-2.0\n",
              "//\n",
              "// Unless required by applicable law or agreed to in writing, software\n",
              "// distributed under the License is distributed on an \"AS IS\" BASIS,\n",
              "// WITHOUT WARRANTIES OR CONDITIONS OF ANY KIND, either express or implied.\n",
              "// See the License for the specific language governing permissions and\n",
              "// limitations under the License.\n",
              "\n",
              "/**\n",
              " * @fileoverview Helpers for google.colab Python module.\n",
              " */\n",
              "(function(scope) {\n",
              "function span(text, styleAttributes = {}) {\n",
              "  const element = document.createElement('span');\n",
              "  element.textContent = text;\n",
              "  for (const key of Object.keys(styleAttributes)) {\n",
              "    element.style[key] = styleAttributes[key];\n",
              "  }\n",
              "  return element;\n",
              "}\n",
              "\n",
              "// Max number of bytes which will be uploaded at a time.\n",
              "const MAX_PAYLOAD_SIZE = 100 * 1024;\n",
              "\n",
              "function _uploadFiles(inputId, outputId) {\n",
              "  const steps = uploadFilesStep(inputId, outputId);\n",
              "  const outputElement = document.getElementById(outputId);\n",
              "  // Cache steps on the outputElement to make it available for the next call\n",
              "  // to uploadFilesContinue from Python.\n",
              "  outputElement.steps = steps;\n",
              "\n",
              "  return _uploadFilesContinue(outputId);\n",
              "}\n",
              "\n",
              "// This is roughly an async generator (not supported in the browser yet),\n",
              "// where there are multiple asynchronous steps and the Python side is going\n",
              "// to poll for completion of each step.\n",
              "// This uses a Promise to block the python side on completion of each step,\n",
              "// then passes the result of the previous step as the input to the next step.\n",
              "function _uploadFilesContinue(outputId) {\n",
              "  const outputElement = document.getElementById(outputId);\n",
              "  const steps = outputElement.steps;\n",
              "\n",
              "  const next = steps.next(outputElement.lastPromiseValue);\n",
              "  return Promise.resolve(next.value.promise).then((value) => {\n",
              "    // Cache the last promise value to make it available to the next\n",
              "    // step of the generator.\n",
              "    outputElement.lastPromiseValue = value;\n",
              "    return next.value.response;\n",
              "  });\n",
              "}\n",
              "\n",
              "/**\n",
              " * Generator function which is called between each async step of the upload\n",
              " * process.\n",
              " * @param {string} inputId Element ID of the input file picker element.\n",
              " * @param {string} outputId Element ID of the output display.\n",
              " * @return {!Iterable<!Object>} Iterable of next steps.\n",
              " */\n",
              "function* uploadFilesStep(inputId, outputId) {\n",
              "  const inputElement = document.getElementById(inputId);\n",
              "  inputElement.disabled = false;\n",
              "\n",
              "  const outputElement = document.getElementById(outputId);\n",
              "  outputElement.innerHTML = '';\n",
              "\n",
              "  const pickedPromise = new Promise((resolve) => {\n",
              "    inputElement.addEventListener('change', (e) => {\n",
              "      resolve(e.target.files);\n",
              "    });\n",
              "  });\n",
              "\n",
              "  const cancel = document.createElement('button');\n",
              "  inputElement.parentElement.appendChild(cancel);\n",
              "  cancel.textContent = 'Cancel upload';\n",
              "  const cancelPromise = new Promise((resolve) => {\n",
              "    cancel.onclick = () => {\n",
              "      resolve(null);\n",
              "    };\n",
              "  });\n",
              "\n",
              "  // Wait for the user to pick the files.\n",
              "  const files = yield {\n",
              "    promise: Promise.race([pickedPromise, cancelPromise]),\n",
              "    response: {\n",
              "      action: 'starting',\n",
              "    }\n",
              "  };\n",
              "\n",
              "  cancel.remove();\n",
              "\n",
              "  // Disable the input element since further picks are not allowed.\n",
              "  inputElement.disabled = true;\n",
              "\n",
              "  if (!files) {\n",
              "    return {\n",
              "      response: {\n",
              "        action: 'complete',\n",
              "      }\n",
              "    };\n",
              "  }\n",
              "\n",
              "  for (const file of files) {\n",
              "    const li = document.createElement('li');\n",
              "    li.append(span(file.name, {fontWeight: 'bold'}));\n",
              "    li.append(span(\n",
              "        `(${file.type || 'n/a'}) - ${file.size} bytes, ` +\n",
              "        `last modified: ${\n",
              "            file.lastModifiedDate ? file.lastModifiedDate.toLocaleDateString() :\n",
              "                                    'n/a'} - `));\n",
              "    const percent = span('0% done');\n",
              "    li.appendChild(percent);\n",
              "\n",
              "    outputElement.appendChild(li);\n",
              "\n",
              "    const fileDataPromise = new Promise((resolve) => {\n",
              "      const reader = new FileReader();\n",
              "      reader.onload = (e) => {\n",
              "        resolve(e.target.result);\n",
              "      };\n",
              "      reader.readAsArrayBuffer(file);\n",
              "    });\n",
              "    // Wait for the data to be ready.\n",
              "    let fileData = yield {\n",
              "      promise: fileDataPromise,\n",
              "      response: {\n",
              "        action: 'continue',\n",
              "      }\n",
              "    };\n",
              "\n",
              "    // Use a chunked sending to avoid message size limits. See b/62115660.\n",
              "    let position = 0;\n",
              "    do {\n",
              "      const length = Math.min(fileData.byteLength - position, MAX_PAYLOAD_SIZE);\n",
              "      const chunk = new Uint8Array(fileData, position, length);\n",
              "      position += length;\n",
              "\n",
              "      const base64 = btoa(String.fromCharCode.apply(null, chunk));\n",
              "      yield {\n",
              "        response: {\n",
              "          action: 'append',\n",
              "          file: file.name,\n",
              "          data: base64,\n",
              "        },\n",
              "      };\n",
              "\n",
              "      let percentDone = fileData.byteLength === 0 ?\n",
              "          100 :\n",
              "          Math.round((position / fileData.byteLength) * 100);\n",
              "      percent.textContent = `${percentDone}% done`;\n",
              "\n",
              "    } while (position < fileData.byteLength);\n",
              "  }\n",
              "\n",
              "  // All done.\n",
              "  yield {\n",
              "    response: {\n",
              "      action: 'complete',\n",
              "    }\n",
              "  };\n",
              "}\n",
              "\n",
              "scope.google = scope.google || {};\n",
              "scope.google.colab = scope.google.colab || {};\n",
              "scope.google.colab._files = {\n",
              "  _uploadFiles,\n",
              "  _uploadFilesContinue,\n",
              "};\n",
              "})(self);\n",
              "</script> "
            ]
          },
          "metadata": {}
        },
        {
          "output_type": "stream",
          "name": "stdout",
          "text": [
            "Saving 99Bikers_Raw_data.xlsx to 99Bikers_Raw_data.xlsx\n"
          ]
        }
      ],
      "source": [
        "# import file to clean and read into pandas dataframe\n",
        "import pandas as pd\n",
        "\n",
        "from google.colab import files\n",
        "uploaded = files.upload()\n",
        "\n",
        "## read Excel file into pandas dataframe\n",
        "file_name_raw = '99Bikers_Raw_data.xlsx'\n",
        "xl_file_raw = pd.ExcelFile(file_name_raw)"
      ]
    },
    {
      "cell_type": "code",
      "execution_count": null,
      "metadata": {
        "colab": {
          "base_uri": "https://localhost:8080/"
        },
        "id": "vPf1-p7_Cqyw",
        "outputId": "02300bc5-d27a-4a78-c1ef-e43847e89f14"
      },
      "outputs": [
        {
          "output_type": "stream",
          "name": "stdout",
          "text": [
            "Mounted at /content/drive\n"
          ]
        }
      ],
      "source": [
        "from google.colab import drive\n",
        "drive.mount('/content/drive')"
      ]
    },
    {
      "cell_type": "code",
      "execution_count": null,
      "metadata": {
        "colab": {
          "base_uri": "https://localhost:8080/"
        },
        "id": "AMks2MZOLyEu",
        "outputId": "2a6f32eb-cde7-4ddb-e487-a80b3217d80e"
      },
      "outputs": [
        {
          "output_type": "stream",
          "name": "stderr",
          "text": [
            "<ipython-input-10-4155500e0cc7>:2: FutureWarning: Inferring datetime64[ns] from data containing strings is deprecated and will be removed in a future version. To retain the old behavior explicitly pass Series(data, dtype=datetime64[ns])\n",
            "  dfs = {sheet_name: xl_file_raw.parse(sheet_name)\n",
            "<ipython-input-10-4155500e0cc7>:2: FutureWarning: Inferring datetime64[ns] from data containing strings is deprecated and will be removed in a future version. To retain the old behavior explicitly pass Series(data, dtype=datetime64[ns])\n",
            "  dfs = {sheet_name: xl_file_raw.parse(sheet_name)\n"
          ]
        }
      ],
      "source": [
        "# Create a dictionary containing a DataFrame for every sheet\n",
        "dfs = {sheet_name: xl_file_raw.parse(sheet_name)\n",
        "          for sheet_name in xl_file_raw.sheet_names}"
      ]
    },
    {
      "cell_type": "code",
      "execution_count": null,
      "metadata": {
        "id": "xrmjcdtGLz6B"
      },
      "outputs": [],
      "source": [
        "# create a dataframe for each sheet\n",
        "#dict_keys(['Transactions', 'NewCustomerList', 'CustomerDemographic', 'CustomerAddress'])\n",
        "df_transactions = dfs['Transactions']\n",
        "df_newcustomerlist = dfs['NewCustomerList']\n",
        "df_customerdemographic = dfs['CustomerDemographic']\n",
        "df_customeraddress = dfs['CustomerAddress']"
      ]
    },
    {
      "cell_type": "markdown",
      "metadata": {
        "id": "ymdNG0TZL3M0"
      },
      "source": [
        "### Getting information about the data and Cleaning the data"
      ]
    },
    {
      "cell_type": "code",
      "execution_count": null,
      "metadata": {
        "colab": {
          "base_uri": "https://localhost:8080/"
        },
        "id": "hgplmytxL60m",
        "outputId": "4e73282c-a421-4f5f-fd16-338ac759f819"
      },
      "outputs": [
        {
          "output_type": "stream",
          "name": "stdout",
          "text": [
            "dict_keys(['Transactions', 'NewCustomerList', 'CustomerDemographic', 'CustomerAddress'])\n"
          ]
        }
      ],
      "source": [
        "# Get info\n",
        "## print sheet names\n",
        "print(dfs.keys())"
      ]
    },
    {
      "cell_type": "markdown",
      "metadata": {
        "id": "jyg7PnBDL_Rk"
      },
      "source": [
        "1. Transactions"
      ]
    },
    {
      "cell_type": "code",
      "execution_count": null,
      "metadata": {
        "colab": {
          "base_uri": "https://localhost:8080/"
        },
        "id": "QxlywX9QMBLu",
        "outputId": "01cf8f0e-c9cc-4a5a-ae14-6bab75dc027a"
      },
      "outputs": [
        {
          "output_type": "stream",
          "name": "stdout",
          "text": [
            "transaction_id                      int64\n",
            "product_id                          int64\n",
            "customer_id                         int64\n",
            "transaction_date           datetime64[ns]\n",
            "online_order                      float64\n",
            "order_status                       object\n",
            "brand                              object\n",
            "product_line                       object\n",
            "product_class                      object\n",
            "product_size                       object\n",
            "list_price                        float64\n",
            "standard_cost                     float64\n",
            "product_first_sold_date           float64\n",
            "dtype: object\n"
          ]
        }
      ],
      "source": [
        "print(df_transactions.dtypes)"
      ]
    },
    {
      "cell_type": "code",
      "execution_count": null,
      "metadata": {
        "id": "VuGulr8kMFhT"
      },
      "outputs": [],
      "source": [
        "# Data cleaning for df_transactions\n",
        "## remove white space of column names\n",
        "df_transactions.columns = df_transactions.columns.str.strip()\n",
        "#fill na\n",
        "df_transactions.fillna('n/a', inplace=True)\n",
        "\n",
        "##  standardize column data type\n",
        "df_transactions['transaction_date'] = pd.to_datetime(df_transactions['transaction_date']).dt.date\n",
        "df_transactions['online_order'] = df_transactions['online_order'].astype('bool') # need to decide how to deal with missing values/null values\n",
        "df_transactions['order_status'] = df_transactions['order_status'].astype('category')\n",
        "df_transactions['brand'] = df_transactions['brand'].astype('string')\n",
        "df_transactions['product_line'] = df_transactions['product_line'].astype('category')\n",
        "df_transactions['product_class'] = df_transactions['product_class'].astype('category')\n",
        "df_transactions['product_size'] = df_transactions['product_size'].astype('category')\n"
      ]
    },
    {
      "cell_type": "code",
      "execution_count": null,
      "metadata": {
        "colab": {
          "base_uri": "https://localhost:8080/"
        },
        "id": "-hywYEi9MPhb",
        "outputId": "140ad080-5647-4609-926b-038fd3203906"
      },
      "outputs": [
        {
          "output_type": "stream",
          "name": "stdout",
          "text": [
            "   transaction_id  product_id  customer_id transaction_date  online_order  \\\n",
            "0               1           2         2950       2017-02-25         False   \n",
            "1               2           3         3120       2017-05-21          True   \n",
            "2               3          37          402       2017-10-16         False   \n",
            "3               4          88         3135       2017-08-31         False   \n",
            "4               5          78          787       2017-10-01          True   \n",
            "5               6          25         2339       2017-03-08          True   \n",
            "6               7          22         1542       2017-04-21          True   \n",
            "7               8          15         2459       2017-07-15         False   \n",
            "8               9          67         1305       2017-08-10         False   \n",
            "9              10          12         3262       2017-08-30          True   \n",
            "\n",
            "  order_status           brand product_line product_class product_size  \\\n",
            "0     Approved           Solex     Standard        medium       medium   \n",
            "1     Approved   Trek Bicycles     Standard        medium        large   \n",
            "2     Approved      OHM Cycles     Standard           low       medium   \n",
            "3     Approved  Norco Bicycles     Standard        medium       medium   \n",
            "4     Approved  Giant Bicycles     Standard        medium        large   \n",
            "5     Approved  Giant Bicycles         Road        medium       medium   \n",
            "6     Approved        WeareA2B     Standard        medium       medium   \n",
            "7     Approved        WeareA2B     Standard        medium       medium   \n",
            "8     Approved           Solex     Standard        medium        large   \n",
            "9     Approved        WeareA2B     Standard        medium       medium   \n",
            "\n",
            "   list_price standard_cost product_first_sold_date  \n",
            "0       71.49         53.62                 41245.0  \n",
            "1     2091.47        388.92                 41701.0  \n",
            "2     1793.43        248.82                 36361.0  \n",
            "3     1198.46         381.1                 36145.0  \n",
            "4     1765.30        709.48                 42226.0  \n",
            "5     1538.99        829.65                 39031.0  \n",
            "6       60.34         45.26                 34165.0  \n",
            "7     1292.84         13.44                 39915.0  \n",
            "8     1071.23        380.74                 33455.0  \n",
            "9     1231.15         161.6                 38216.0  \n"
          ]
        }
      ],
      "source": [
        "# show infomation of df_transactions after cleaning\n",
        "print(df_transactions.head(10))"
      ]
    },
    {
      "cell_type": "markdown",
      "metadata": {
        "id": "tvI2pXGlMsRI"
      },
      "source": [
        "2. Customer Demographic"
      ]
    },
    {
      "cell_type": "code",
      "execution_count": null,
      "metadata": {
        "colab": {
          "base_uri": "https://localhost:8080/"
        },
        "id": "7TexL800MvLz",
        "outputId": "d7ce5caf-4529-4b29-c85b-6d2508061e6b"
      },
      "outputs": [
        {
          "output_type": "stream",
          "name": "stdout",
          "text": [
            "Index(['customer_id', 'first_name', 'last_name', 'gender',\n",
            "       'past_3_years_bike_related_purchases', 'DOB', 'job_title',\n",
            "       'job_industry_category', 'wealth_segment', 'deceased_indicator',\n",
            "       'default', 'owns_car', 'tenure'],\n",
            "      dtype='object')\n",
            "customer_id                              0\n",
            "first_name                               0\n",
            "last_name                              125\n",
            "gender                                   0\n",
            "past_3_years_bike_related_purchases      0\n",
            "DOB                                     87\n",
            "job_title                              506\n",
            "job_industry_category                  656\n",
            "wealth_segment                           0\n",
            "deceased_indicator                       0\n",
            "default                                302\n",
            "owns_car                                 0\n",
            "tenure                                  87\n",
            "dtype: int64\n",
            "customer_id                                     int64\n",
            "first_name                                     object\n",
            "last_name                                      object\n",
            "gender                                         object\n",
            "past_3_years_bike_related_purchases             int64\n",
            "DOB                                    datetime64[ns]\n",
            "job_title                                      object\n",
            "job_industry_category                          object\n",
            "wealth_segment                                 object\n",
            "deceased_indicator                             object\n",
            "default                                        object\n",
            "owns_car                                       object\n",
            "tenure                                        float64\n",
            "dtype: object\n",
            "['F' 'Male' 'Female' 'U' 'Femal' 'M']\n",
            "['Mass Customer' 'Affluent Customer' 'High Net Worth']\n",
            "['N' 'Y']\n",
            "['Yes' 'No']\n"
          ]
        }
      ],
      "source": [
        "# Data inspection\n",
        "print(df_customerdemographic.keys())\n",
        "print(df_customerdemographic.isnull().sum())\n",
        "print(df_customerdemographic.dtypes)\n",
        "print(df_customerdemographic['gender'].unique())\n",
        "print(df_customerdemographic['wealth_segment'].unique())\n",
        "print(df_customerdemographic['deceased_indicator'].unique())\n",
        "print(df_customerdemographic['owns_car'].unique())"
      ]
    },
    {
      "cell_type": "code",
      "execution_count": null,
      "metadata": {
        "id": "AmGoyErvMxgS"
      },
      "outputs": [],
      "source": [
        "# Data cleaning for df_customerdemographic\n",
        "## remove white space of column names\n",
        "df_customerdemographic.columns = df_customerdemographic.columns.str.strip()\n",
        "\n",
        "#fill na\n",
        "df_customerdemographic.fillna('n/a', inplace=True)\n",
        "\n",
        "# => string\n",
        "df_customerdemographic['first_name'] = df_customerdemographic['first_name'].astype('string')\n",
        "df_customerdemographic['last_name'] = df_customerdemographic['last_name'].astype('string')\n",
        "df_customerdemographic['wealth_segment'] = df_customerdemographic['wealth_segment'].astype('category')\n",
        "df_customerdemographic['deceased_indicator'] = df_customerdemographic['deceased_indicator'].replace({'N': False, 'Y': True})\n",
        "df_customerdemographic['owns_car'] = df_customerdemographic['owns_car'].replace({'Yes': True, 'No': False})\n",
        "df_customerdemographic['DOB'] = pd.to_datetime(df_customerdemographic['DOB'], errors='coerce')\n",
        "df_customerdemographic.dropna(subset=['DOB'], inplace=True)\n",
        "\n",
        "## Remove columns that are not needed\n",
        "if 'default' in df_customerdemographic.columns:\n",
        "    df_customerdemographic = df_customerdemographic.drop('default', axis=1)\n",
        "if 'tenure' in df_customerdemographic.columns:\n",
        "    df_customerdemographic = df_customerdemographic.drop('tenure', axis=1)\n",
        "\n",
        "# standardize column data type\n",
        "# Gender: F -> Female, M -> Male, Other -> Unspectified\n",
        "df_customerdemographic['gender'] = df_customerdemographic['gender'].replace({'F': 'Female', 'M': 'Male', 'Female': 'Female', 'Male': 'Male', 'Femal': 'Female', 'U': 'Unspecified'})\n"
      ]
    },
    {
      "cell_type": "code",
      "execution_count": null,
      "metadata": {
        "colab": {
          "base_uri": "https://localhost:8080/"
        },
        "id": "4yDpFR_qM0nU",
        "outputId": "ec20fe96-732c-43ba-d3e0-6f152ac43061"
      },
      "outputs": [
        {
          "output_type": "stream",
          "name": "stdout",
          "text": [
            "<class 'pandas.core.frame.DataFrame'>\n",
            "Int64Index: 3913 entries, 0 to 3999\n",
            "Data columns (total 11 columns):\n",
            " #   Column                               Non-Null Count  Dtype         \n",
            "---  ------                               --------------  -----         \n",
            " 0   customer_id                          3913 non-null   int64         \n",
            " 1   first_name                           3913 non-null   string        \n",
            " 2   last_name                            3913 non-null   string        \n",
            " 3   gender                               3913 non-null   object        \n",
            " 4   past_3_years_bike_related_purchases  3913 non-null   int64         \n",
            " 5   DOB                                  3913 non-null   datetime64[ns]\n",
            " 6   job_title                            3913 non-null   object        \n",
            " 7   job_industry_category                3913 non-null   object        \n",
            " 8   wealth_segment                       3913 non-null   category      \n",
            " 9   deceased_indicator                   3913 non-null   bool          \n",
            " 10  owns_car                             3913 non-null   bool          \n",
            "dtypes: bool(2), category(1), datetime64[ns](1), int64(2), object(3), string(2)\n",
            "memory usage: 286.7+ KB\n",
            "None\n",
            "   customer_id      first_name  last_name  gender  \\\n",
            "0            1         Laraine  Medendorp  Female   \n",
            "1            2             Eli    Bockman    Male   \n",
            "2            3           Arlin     Dearle    Male   \n",
            "3            4          Talbot        n/a    Male   \n",
            "4            5  Sheila-kathryn     Calton  Female   \n",
            "\n",
            "   past_3_years_bike_related_purchases        DOB               job_title  \\\n",
            "0                                   93 1953-10-12     Executive Secretary   \n",
            "1                                   81 1980-12-16  Administrative Officer   \n",
            "2                                   61 1954-01-20      Recruiting Manager   \n",
            "3                                   33 1961-10-03                     n/a   \n",
            "4                                   56 1977-05-13           Senior Editor   \n",
            "\n",
            "  job_industry_category     wealth_segment  deceased_indicator  owns_car  \n",
            "0                Health      Mass Customer               False      True  \n",
            "1    Financial Services      Mass Customer               False      True  \n",
            "2              Property      Mass Customer               False      True  \n",
            "3                    IT      Mass Customer               False     False  \n",
            "4                   n/a  Affluent Customer               False      True  \n",
            "customer_id                            0\n",
            "first_name                             0\n",
            "last_name                              0\n",
            "gender                                 0\n",
            "past_3_years_bike_related_purchases    0\n",
            "DOB                                    0\n",
            "job_title                              0\n",
            "job_industry_category                  0\n",
            "wealth_segment                         0\n",
            "deceased_indicator                     0\n",
            "owns_car                               0\n",
            "dtype: int64\n"
          ]
        }
      ],
      "source": [
        "# Sumarize and show infomation of df_customerdemographic after cleaning\n",
        "\n",
        "print(df_customerdemographic.info())\n",
        "print(df_customerdemographic.head())\n",
        "print(df_customerdemographic.isnull().sum())"
      ]
    },
    {
      "cell_type": "markdown",
      "source": [
        "3. New Customer List"
      ],
      "metadata": {
        "id": "CyDdg00RPNzB"
      }
    },
    {
      "cell_type": "code",
      "execution_count": null,
      "metadata": {
        "colab": {
          "base_uri": "https://localhost:8080/"
        },
        "id": "5o_7XTaGM56e",
        "outputId": "abf416e3-dc4e-4f42-a326-f29b755b69f8"
      },
      "outputs": [
        {
          "output_type": "stream",
          "name": "stdout",
          "text": [
            "Index(['first_name', 'last_name', 'gender',\n",
            "       'past_3_years_bike_related_purchases', 'DOB', 'job_title',\n",
            "       'job_industry_category', 'wealth_segment', 'deceased_indicator',\n",
            "       'owns_car', 'tenure', 'address', 'postcode', 'state', 'country',\n",
            "       'property_valuation', 'Unnamed: 16', 'Unnamed: 17', 'Unnamed: 18',\n",
            "       'Unnamed: 19', 'Unnamed: 20', 'Rank', 'Value'],\n",
            "      dtype='object')\n",
            "first_name                                     object\n",
            "last_name                                      object\n",
            "gender                                         object\n",
            "past_3_years_bike_related_purchases             int64\n",
            "DOB                                    datetime64[ns]\n",
            "job_title                                      object\n",
            "job_industry_category                          object\n",
            "wealth_segment                                 object\n",
            "deceased_indicator                             object\n",
            "owns_car                                       object\n",
            "tenure                                          int64\n",
            "address                                        object\n",
            "postcode                                        int64\n",
            "state                                          object\n",
            "country                                        object\n",
            "property_valuation                              int64\n",
            "Unnamed: 16                                   float64\n",
            "Unnamed: 17                                   float64\n",
            "Unnamed: 18                                   float64\n",
            "Unnamed: 19                                   float64\n",
            "Unnamed: 20                                     int64\n",
            "Rank                                            int64\n",
            "Value                                         float64\n",
            "dtype: object\n",
            "first_name                               0\n",
            "last_name                               29\n",
            "gender                                   0\n",
            "past_3_years_bike_related_purchases      0\n",
            "DOB                                     17\n",
            "job_title                              106\n",
            "job_industry_category                  165\n",
            "wealth_segment                           0\n",
            "deceased_indicator                       0\n",
            "owns_car                                 0\n",
            "tenure                                   0\n",
            "address                                  0\n",
            "postcode                                 0\n",
            "state                                    0\n",
            "country                                  0\n",
            "property_valuation                       0\n",
            "Unnamed: 16                              0\n",
            "Unnamed: 17                              0\n",
            "Unnamed: 18                              0\n",
            "Unnamed: 19                              0\n",
            "Unnamed: 20                              0\n",
            "Rank                                     0\n",
            "Value                                    0\n",
            "dtype: int64\n",
            "['Male' 'Female' 'U']\n",
            "['Mass Customer' 'Affluent Customer' 'High Net Worth']\n",
            "['N']\n",
            "['Yes' 'No']\n",
            "[ 6 11  5  1  9  7 10  8  4  2 12  3]\n",
            "    first_name  last_name  gender  past_3_years_bike_related_purchases  \\\n",
            "0      Chickie    Brister    Male                                   86   \n",
            "1        Morly     Genery    Male                                   69   \n",
            "2      Ardelis  Forrester  Female                                   10   \n",
            "3       Lucine      Stutt  Female                                   64   \n",
            "4      Melinda     Hadlee  Female                                   34   \n",
            "..         ...        ...     ...                                  ...   \n",
            "995  Ferdinand  Romanetti    Male                                   60   \n",
            "996       Burk    Wortley    Male                                   22   \n",
            "997   Melloney      Temby  Female                                   17   \n",
            "998     Dickie    Cubbini    Male                                   30   \n",
            "999      Sylas    Duffill    Male                                   56   \n",
            "\n",
            "           DOB                     job_title job_industry_category  \\\n",
            "0   1957-07-12               General Manager         Manufacturing   \n",
            "1   1970-03-22           Structural Engineer              Property   \n",
            "2   1974-08-28        Senior Cost Accountant    Financial Services   \n",
            "3   1979-01-28    Account Representative III         Manufacturing   \n",
            "4   1965-09-21             Financial Analyst    Financial Services   \n",
            "..         ...                           ...                   ...   \n",
            "995 1959-10-07                     Paralegal    Financial Services   \n",
            "996 2001-10-17        Senior Sales Associate                Health   \n",
            "997 1954-10-05  Budget/Accounting Analyst IV    Financial Services   \n",
            "998 1952-12-17             Financial Advisor    Financial Services   \n",
            "999 1955-10-02           Staff Accountant IV              Property   \n",
            "\n",
            "        wealth_segment deceased_indicator owns_car  ...  state    country  \\\n",
            "0        Mass Customer                  N      Yes  ...    QLD  Australia   \n",
            "1        Mass Customer                  N       No  ...    NSW  Australia   \n",
            "2    Affluent Customer                  N       No  ...    VIC  Australia   \n",
            "3    Affluent Customer                  N      Yes  ...    QLD  Australia   \n",
            "4    Affluent Customer                  N       No  ...    NSW  Australia   \n",
            "..                 ...                ...      ...  ...    ...        ...   \n",
            "995  Affluent Customer                  N       No  ...    NSW  Australia   \n",
            "996      Mass Customer                  N       No  ...    NSW  Australia   \n",
            "997  Affluent Customer                  N      Yes  ...    QLD  Australia   \n",
            "998      Mass Customer                  N      Yes  ...    QLD  Australia   \n",
            "999      Mass Customer                  N      Yes  ...    NSW  Australia   \n",
            "\n",
            "     property_valuation Unnamed: 16 Unnamed: 17  Unnamed: 18  Unnamed: 19  \\\n",
            "0                     6        0.81      1.0125     1.265625     1.075781   \n",
            "1                    11        0.75      0.7500     0.937500     0.796875   \n",
            "2                     5        0.71      0.7100     0.710000     0.710000   \n",
            "3                     1        0.50      0.6250     0.625000     0.625000   \n",
            "4                     9        0.99      0.9900     1.237500     1.237500   \n",
            "..                  ...         ...         ...          ...          ...   \n",
            "995                   7        1.07      1.0700     1.070000     1.070000   \n",
            "996                  10        0.90      0.9000     1.125000     0.956250   \n",
            "997                   2        0.66      0.8250     0.825000     0.825000   \n",
            "998                   2        0.78      0.9750     0.975000     0.828750   \n",
            "999                   9        0.59      0.7375     0.921875     0.783594   \n",
            "\n",
            "     Unnamed: 20  Rank     Value  \n",
            "0              1     1  1.718750  \n",
            "1              1     1  1.718750  \n",
            "2              1     1  1.718750  \n",
            "3              4     4  1.703125  \n",
            "4              4     4  1.703125  \n",
            "..           ...   ...       ...  \n",
            "995          996   996  0.374000  \n",
            "996          997   997  0.357000  \n",
            "997          997   997  0.357000  \n",
            "998          997   997  0.357000  \n",
            "999         1000  1000  0.340000  \n",
            "\n",
            "[1000 rows x 23 columns]\n"
          ]
        }
      ],
      "source": [
        "# Data inspection\n",
        "print(df_newcustomerlist.keys())\n",
        "print(df_newcustomerlist.dtypes)\n",
        "print(df_newcustomerlist.isnull().sum())\n",
        "print(df_newcustomerlist['gender'].unique())\n",
        "print(df_newcustomerlist['wealth_segment'].unique())\n",
        "print(df_newcustomerlist['deceased_indicator'].unique())\n",
        "print(df_newcustomerlist['owns_car'].unique())\n",
        "print(df_newcustomerlist['property_valuation'].unique())\n",
        "print(df_newcustomerlist)"
      ]
    },
    {
      "cell_type": "code",
      "execution_count": null,
      "metadata": {
        "colab": {
          "base_uri": "https://localhost:8080/"
        },
        "id": "1A6Qt3OMNFWg",
        "outputId": "a4bc098a-a016-4597-b30c-5c40889fac2b"
      },
      "outputs": [
        {
          "output_type": "stream",
          "name": "stderr",
          "text": [
            "<ipython-input-24-22a0e488ddfb>:13: SettingWithCopyWarning: \n",
            "A value is trying to be set on a copy of a slice from a DataFrame.\n",
            "Try using .loc[row_indexer,col_indexer] = value instead\n",
            "\n",
            "See the caveats in the documentation: https://pandas.pydata.org/pandas-docs/stable/user_guide/indexing.html#returning-a-view-versus-a-copy\n",
            "  df_newcustomerlist['first_name'] = df_newcustomerlist['first_name'].astype('string')\n",
            "<ipython-input-24-22a0e488ddfb>:14: SettingWithCopyWarning: \n",
            "A value is trying to be set on a copy of a slice from a DataFrame.\n",
            "Try using .loc[row_indexer,col_indexer] = value instead\n",
            "\n",
            "See the caveats in the documentation: https://pandas.pydata.org/pandas-docs/stable/user_guide/indexing.html#returning-a-view-versus-a-copy\n",
            "  df_newcustomerlist['last_name'] = df_newcustomerlist['last_name'].astype('string')\n",
            "<ipython-input-24-22a0e488ddfb>:15: SettingWithCopyWarning: \n",
            "A value is trying to be set on a copy of a slice from a DataFrame.\n",
            "Try using .loc[row_indexer,col_indexer] = value instead\n",
            "\n",
            "See the caveats in the documentation: https://pandas.pydata.org/pandas-docs/stable/user_guide/indexing.html#returning-a-view-versus-a-copy\n",
            "  df_newcustomerlist['DOB'] = pd.to_datetime(df_newcustomerlist['DOB'], errors='coerce')\n",
            "<ipython-input-24-22a0e488ddfb>:16: SettingWithCopyWarning: \n",
            "A value is trying to be set on a copy of a slice from a DataFrame\n",
            "\n",
            "See the caveats in the documentation: https://pandas.pydata.org/pandas-docs/stable/user_guide/indexing.html#returning-a-view-versus-a-copy\n",
            "  df_newcustomerlist.dropna(subset=['DOB'], inplace=True)\n",
            "<ipython-input-24-22a0e488ddfb>:17: SettingWithCopyWarning: \n",
            "A value is trying to be set on a copy of a slice from a DataFrame.\n",
            "Try using .loc[row_indexer,col_indexer] = value instead\n",
            "\n",
            "See the caveats in the documentation: https://pandas.pydata.org/pandas-docs/stable/user_guide/indexing.html#returning-a-view-versus-a-copy\n",
            "  df_newcustomerlist['job_title'] = df_newcustomerlist['job_title'].astype('string')\n",
            "<ipython-input-24-22a0e488ddfb>:18: SettingWithCopyWarning: \n",
            "A value is trying to be set on a copy of a slice from a DataFrame.\n",
            "Try using .loc[row_indexer,col_indexer] = value instead\n",
            "\n",
            "See the caveats in the documentation: https://pandas.pydata.org/pandas-docs/stable/user_guide/indexing.html#returning-a-view-versus-a-copy\n",
            "  df_newcustomerlist['job_industry_category'] = df_newcustomerlist['job_industry_category'].astype('string')\n",
            "<ipython-input-24-22a0e488ddfb>:19: SettingWithCopyWarning: \n",
            "A value is trying to be set on a copy of a slice from a DataFrame.\n",
            "Try using .loc[row_indexer,col_indexer] = value instead\n",
            "\n",
            "See the caveats in the documentation: https://pandas.pydata.org/pandas-docs/stable/user_guide/indexing.html#returning-a-view-versus-a-copy\n",
            "  df_newcustomerlist['wealth_segment'] = df_newcustomerlist['wealth_segment'].astype('category')\n",
            "<ipython-input-24-22a0e488ddfb>:20: SettingWithCopyWarning: \n",
            "A value is trying to be set on a copy of a slice from a DataFrame.\n",
            "Try using .loc[row_indexer,col_indexer] = value instead\n",
            "\n",
            "See the caveats in the documentation: https://pandas.pydata.org/pandas-docs/stable/user_guide/indexing.html#returning-a-view-versus-a-copy\n",
            "  df_newcustomerlist['deceased_indicator'] = df_newcustomerlist['deceased_indicator'].replace({'N': False, 'Y': True})\n",
            "<ipython-input-24-22a0e488ddfb>:21: SettingWithCopyWarning: \n",
            "A value is trying to be set on a copy of a slice from a DataFrame.\n",
            "Try using .loc[row_indexer,col_indexer] = value instead\n",
            "\n",
            "See the caveats in the documentation: https://pandas.pydata.org/pandas-docs/stable/user_guide/indexing.html#returning-a-view-versus-a-copy\n",
            "  df_newcustomerlist['owns_car'] = df_newcustomerlist['owns_car'].replace({'Yes': True, 'No': False})\n",
            "<ipython-input-24-22a0e488ddfb>:22: SettingWithCopyWarning: \n",
            "A value is trying to be set on a copy of a slice from a DataFrame.\n",
            "Try using .loc[row_indexer,col_indexer] = value instead\n",
            "\n",
            "See the caveats in the documentation: https://pandas.pydata.org/pandas-docs/stable/user_guide/indexing.html#returning-a-view-versus-a-copy\n",
            "  df_newcustomerlist['address'] = df_newcustomerlist['address'].astype('string')\n",
            "<ipython-input-24-22a0e488ddfb>:23: SettingWithCopyWarning: \n",
            "A value is trying to be set on a copy of a slice from a DataFrame.\n",
            "Try using .loc[row_indexer,col_indexer] = value instead\n",
            "\n",
            "See the caveats in the documentation: https://pandas.pydata.org/pandas-docs/stable/user_guide/indexing.html#returning-a-view-versus-a-copy\n",
            "  df_newcustomerlist['postcode'] = df_newcustomerlist['postcode'].astype('int64')\n",
            "<ipython-input-24-22a0e488ddfb>:24: SettingWithCopyWarning: \n",
            "A value is trying to be set on a copy of a slice from a DataFrame.\n",
            "Try using .loc[row_indexer,col_indexer] = value instead\n",
            "\n",
            "See the caveats in the documentation: https://pandas.pydata.org/pandas-docs/stable/user_guide/indexing.html#returning-a-view-versus-a-copy\n",
            "  df_newcustomerlist['state'] = df_newcustomerlist['state'].astype('category')\n",
            "<ipython-input-24-22a0e488ddfb>:26: SettingWithCopyWarning: \n",
            "A value is trying to be set on a copy of a slice from a DataFrame.\n",
            "Try using .loc[row_indexer,col_indexer] = value instead\n",
            "\n",
            "See the caveats in the documentation: https://pandas.pydata.org/pandas-docs/stable/user_guide/indexing.html#returning-a-view-versus-a-copy\n",
            "  df_newcustomerlist['gender'] = df_newcustomerlist['gender'].replace({'F': 'Female', 'M': 'Male', 'Female': 'Female', 'Male': 'Male', 'Femal': 'Female', 'U': 'Unspecified'})\n"
          ]
        }
      ],
      "source": [
        "# Data cleaning for df_newcustomerlist\n",
        "df_newcustomerlist.columns = df_newcustomerlist.columns.str.strip()\n",
        "\n",
        "#fill na\n",
        "df_newcustomerlist.fillna('n/a', inplace=True)\n",
        "\n",
        "\n",
        "# drop all unamed columns\n",
        "# Recheck this part!!\n",
        "df_newcustomerlist = df_newcustomerlist.loc[:, ~df_newcustomerlist.columns.str.contains('^Unnamed')]\n",
        "\n",
        "# standardize column data type\n",
        "df_newcustomerlist['first_name'] = df_newcustomerlist['first_name'].astype('string')\n",
        "df_newcustomerlist['last_name'] = df_newcustomerlist['last_name'].astype('string')\n",
        "df_newcustomerlist['DOB'] = pd.to_datetime(df_newcustomerlist['DOB'], errors='coerce')\n",
        "df_newcustomerlist.dropna(subset=['DOB'], inplace=True)\n",
        "df_newcustomerlist['job_title'] = df_newcustomerlist['job_title'].astype('string')\n",
        "df_newcustomerlist['job_industry_category'] = df_newcustomerlist['job_industry_category'].astype('string')\n",
        "df_newcustomerlist['wealth_segment'] = df_newcustomerlist['wealth_segment'].astype('category')\n",
        "df_newcustomerlist['deceased_indicator'] = df_newcustomerlist['deceased_indicator'].replace({'N': False, 'Y': True})\n",
        "df_newcustomerlist['owns_car'] = df_newcustomerlist['owns_car'].replace({'Yes': True, 'No': False})\n",
        "df_newcustomerlist['address'] = df_newcustomerlist['address'].astype('string')\n",
        "df_newcustomerlist['postcode'] = df_newcustomerlist['postcode'].astype('int64')\n",
        "df_newcustomerlist['state'] = df_newcustomerlist['state'].astype('category')\n",
        "# Gender: F -> Female, M -> Male, Other -> Unspectified\n",
        "df_newcustomerlist['gender'] = df_newcustomerlist['gender'].replace({'F': 'Female', 'M': 'Male', 'Female': 'Female', 'Male': 'Male', 'Femal': 'Female', 'U': 'Unspecified'})"
      ]
    },
    {
      "cell_type": "markdown",
      "metadata": {
        "id": "_Vd5XBoHNK6M"
      },
      "source": [
        "4. Customer Address"
      ]
    },
    {
      "cell_type": "code",
      "execution_count": null,
      "metadata": {
        "colab": {
          "base_uri": "https://localhost:8080/"
        },
        "id": "6QngU8XWNM-a",
        "outputId": "46983edf-efb9-4184-daef-796d31b1aea9"
      },
      "outputs": [
        {
          "output_type": "stream",
          "name": "stdout",
          "text": [
            "Index(['customer_id', 'address', 'postcode', 'state', 'country',\n",
            "       'property_valuation'],\n",
            "      dtype='object')\n",
            "customer_id            int64\n",
            "address               object\n",
            "postcode               int64\n",
            "state                 object\n",
            "country               object\n",
            "property_valuation     int64\n",
            "dtype: object\n",
            "customer_id           0\n",
            "address               0\n",
            "postcode              0\n",
            "state                 0\n",
            "country               0\n",
            "property_valuation    0\n",
            "dtype: int64\n",
            "['New South Wales' 'QLD' 'VIC' 'NSW' 'Victoria']\n"
          ]
        }
      ],
      "source": [
        "# Data inspection\n",
        "print(df_customeraddress.keys())\n",
        "print(df_customeraddress.dtypes)\n",
        "print(df_customeraddress.isnull().sum())\n",
        "print(df_customeraddress['state'].unique())"
      ]
    },
    {
      "cell_type": "code",
      "execution_count": null,
      "metadata": {
        "id": "08nx5N7YNQb0"
      },
      "outputs": [],
      "source": [
        "# Data cleaning for df_newcustomerlist\n",
        "df_newcustomerlist.columns = df_newcustomerlist.columns.str.strip()\n",
        "\n",
        "#fill na\n",
        "df_customeraddress.fillna('n/a', inplace=True)\n",
        "\n",
        "# drop all unamed columns\n",
        "# Recheck this part!!\n",
        "df_newcustomerlist = df_newcustomerlist.loc[:, ~df_newcustomerlist.columns.str.contains('^Unnamed')]\n",
        "\n",
        "\n",
        "df_customeraddress['address'] = df_customeraddress['address'].astype('string')\n",
        "df_customeraddress['postcode'] = df_customeraddress['postcode'].astype('int64')\n",
        "\n",
        "df_customeraddress['state'] = df_customeraddress['state'].replace({'New South Wales': 'NSW', 'Victoria': 'VIC', 'QLD': 'QLD', 'NSW': 'NSW'})\n",
        "df_customeraddress['state'] = df_customeraddress['state'].astype('category')"
      ]
    },
    {
      "cell_type": "code",
      "execution_count": null,
      "metadata": {
        "colab": {
          "base_uri": "https://localhost:8080/",
          "height": 17
        },
        "id": "EqboaqJMNTAS",
        "outputId": "39c7ca67-f87c-4199-b9e5-2adab1d5977d"
      },
      "outputs": [
        {
          "output_type": "display_data",
          "data": {
            "text/plain": [
              "<IPython.core.display.Javascript object>"
            ],
            "application/javascript": [
              "\n",
              "    async function download(id, filename, size) {\n",
              "      if (!google.colab.kernel.accessAllowed) {\n",
              "        return;\n",
              "      }\n",
              "      const div = document.createElement('div');\n",
              "      const label = document.createElement('label');\n",
              "      label.textContent = `Downloading \"${filename}\": `;\n",
              "      div.appendChild(label);\n",
              "      const progress = document.createElement('progress');\n",
              "      progress.max = size;\n",
              "      div.appendChild(progress);\n",
              "      document.body.appendChild(div);\n",
              "\n",
              "      const buffers = [];\n",
              "      let downloaded = 0;\n",
              "\n",
              "      const channel = await google.colab.kernel.comms.open(id);\n",
              "      // Send a message to notify the kernel that we're ready.\n",
              "      channel.send({})\n",
              "\n",
              "      for await (const message of channel.messages) {\n",
              "        // Send a message to notify the kernel that we're ready.\n",
              "        channel.send({})\n",
              "        if (message.buffers) {\n",
              "          for (const buffer of message.buffers) {\n",
              "            buffers.push(buffer);\n",
              "            downloaded += buffer.byteLength;\n",
              "            progress.value = downloaded;\n",
              "          }\n",
              "        }\n",
              "      }\n",
              "      const blob = new Blob(buffers, {type: 'application/binary'});\n",
              "      const a = document.createElement('a');\n",
              "      a.href = window.URL.createObjectURL(blob);\n",
              "      a.download = filename;\n",
              "      div.appendChild(a);\n",
              "      a.click();\n",
              "      div.remove();\n",
              "    }\n",
              "  "
            ]
          },
          "metadata": {}
        },
        {
          "output_type": "display_data",
          "data": {
            "text/plain": [
              "<IPython.core.display.Javascript object>"
            ],
            "application/javascript": [
              "download(\"download_84e1951a-83bd-4dda-a4dd-1e9d9be25981\", \"output_transactions.xlsx\", 1304837)"
            ]
          },
          "metadata": {}
        },
        {
          "output_type": "display_data",
          "data": {
            "text/plain": [
              "<IPython.core.display.Javascript object>"
            ],
            "application/javascript": [
              "\n",
              "    async function download(id, filename, size) {\n",
              "      if (!google.colab.kernel.accessAllowed) {\n",
              "        return;\n",
              "      }\n",
              "      const div = document.createElement('div');\n",
              "      const label = document.createElement('label');\n",
              "      label.textContent = `Downloading \"${filename}\": `;\n",
              "      div.appendChild(label);\n",
              "      const progress = document.createElement('progress');\n",
              "      progress.max = size;\n",
              "      div.appendChild(progress);\n",
              "      document.body.appendChild(div);\n",
              "\n",
              "      const buffers = [];\n",
              "      let downloaded = 0;\n",
              "\n",
              "      const channel = await google.colab.kernel.comms.open(id);\n",
              "      // Send a message to notify the kernel that we're ready.\n",
              "      channel.send({})\n",
              "\n",
              "      for await (const message of channel.messages) {\n",
              "        // Send a message to notify the kernel that we're ready.\n",
              "        channel.send({})\n",
              "        if (message.buffers) {\n",
              "          for (const buffer of message.buffers) {\n",
              "            buffers.push(buffer);\n",
              "            downloaded += buffer.byteLength;\n",
              "            progress.value = downloaded;\n",
              "          }\n",
              "        }\n",
              "      }\n",
              "      const blob = new Blob(buffers, {type: 'application/binary'});\n",
              "      const a = document.createElement('a');\n",
              "      a.href = window.URL.createObjectURL(blob);\n",
              "      a.download = filename;\n",
              "      div.appendChild(a);\n",
              "      a.click();\n",
              "      div.remove();\n",
              "    }\n",
              "  "
            ]
          },
          "metadata": {}
        },
        {
          "output_type": "display_data",
          "data": {
            "text/plain": [
              "<IPython.core.display.Javascript object>"
            ],
            "application/javascript": [
              "download(\"download_ef03afae-8f4e-44a2-bd9d-ec3f7f692744\", \"output_customerdemographic.xlsx\", 268375)"
            ]
          },
          "metadata": {}
        },
        {
          "output_type": "display_data",
          "data": {
            "text/plain": [
              "<IPython.core.display.Javascript object>"
            ],
            "application/javascript": [
              "\n",
              "    async function download(id, filename, size) {\n",
              "      if (!google.colab.kernel.accessAllowed) {\n",
              "        return;\n",
              "      }\n",
              "      const div = document.createElement('div');\n",
              "      const label = document.createElement('label');\n",
              "      label.textContent = `Downloading \"${filename}\": `;\n",
              "      div.appendChild(label);\n",
              "      const progress = document.createElement('progress');\n",
              "      progress.max = size;\n",
              "      div.appendChild(progress);\n",
              "      document.body.appendChild(div);\n",
              "\n",
              "      const buffers = [];\n",
              "      let downloaded = 0;\n",
              "\n",
              "      const channel = await google.colab.kernel.comms.open(id);\n",
              "      // Send a message to notify the kernel that we're ready.\n",
              "      channel.send({})\n",
              "\n",
              "      for await (const message of channel.messages) {\n",
              "        // Send a message to notify the kernel that we're ready.\n",
              "        channel.send({})\n",
              "        if (message.buffers) {\n",
              "          for (const buffer of message.buffers) {\n",
              "            buffers.push(buffer);\n",
              "            downloaded += buffer.byteLength;\n",
              "            progress.value = downloaded;\n",
              "          }\n",
              "        }\n",
              "      }\n",
              "      const blob = new Blob(buffers, {type: 'application/binary'});\n",
              "      const a = document.createElement('a');\n",
              "      a.href = window.URL.createObjectURL(blob);\n",
              "      a.download = filename;\n",
              "      div.appendChild(a);\n",
              "      a.click();\n",
              "      div.remove();\n",
              "    }\n",
              "  "
            ]
          },
          "metadata": {}
        },
        {
          "output_type": "display_data",
          "data": {
            "text/plain": [
              "<IPython.core.display.Javascript object>"
            ],
            "application/javascript": [
              "download(\"download_419bcd70-46b4-4278-ab65-01584afafa5f\", \"output_newcustomerlist.xlsx\", 111101)"
            ]
          },
          "metadata": {}
        },
        {
          "output_type": "display_data",
          "data": {
            "text/plain": [
              "<IPython.core.display.Javascript object>"
            ],
            "application/javascript": [
              "\n",
              "    async function download(id, filename, size) {\n",
              "      if (!google.colab.kernel.accessAllowed) {\n",
              "        return;\n",
              "      }\n",
              "      const div = document.createElement('div');\n",
              "      const label = document.createElement('label');\n",
              "      label.textContent = `Downloading \"${filename}\": `;\n",
              "      div.appendChild(label);\n",
              "      const progress = document.createElement('progress');\n",
              "      progress.max = size;\n",
              "      div.appendChild(progress);\n",
              "      document.body.appendChild(div);\n",
              "\n",
              "      const buffers = [];\n",
              "      let downloaded = 0;\n",
              "\n",
              "      const channel = await google.colab.kernel.comms.open(id);\n",
              "      // Send a message to notify the kernel that we're ready.\n",
              "      channel.send({})\n",
              "\n",
              "      for await (const message of channel.messages) {\n",
              "        // Send a message to notify the kernel that we're ready.\n",
              "        channel.send({})\n",
              "        if (message.buffers) {\n",
              "          for (const buffer of message.buffers) {\n",
              "            buffers.push(buffer);\n",
              "            downloaded += buffer.byteLength;\n",
              "            progress.value = downloaded;\n",
              "          }\n",
              "        }\n",
              "      }\n",
              "      const blob = new Blob(buffers, {type: 'application/binary'});\n",
              "      const a = document.createElement('a');\n",
              "      a.href = window.URL.createObjectURL(blob);\n",
              "      a.download = filename;\n",
              "      div.appendChild(a);\n",
              "      a.click();\n",
              "      div.remove();\n",
              "    }\n",
              "  "
            ]
          },
          "metadata": {}
        },
        {
          "output_type": "display_data",
          "data": {
            "text/plain": [
              "<IPython.core.display.Javascript object>"
            ],
            "application/javascript": [
              "download(\"download_011cc213-6266-4119-840c-807e2857027c\", \"output_customeraddress.xlsx\", 160260)"
            ]
          },
          "metadata": {}
        }
      ],
      "source": [
        "# Download\n",
        "\n",
        "# export DataFrame to Excel file\n",
        "from google.colab import files\n",
        "df_transactions.to_excel('output_transactions.xlsx', index=False)\n",
        "files.download('output_transactions.xlsx')\n",
        "\n",
        "df_customerdemographic.to_excel('output_customerdemographic.xlsx', index=False)\n",
        "files.download('output_customerdemographic.xlsx')\n",
        "\n",
        "df_newcustomerlist.to_excel('output_newcustomerlist.xlsx', index=False)\n",
        "files.download('output_newcustomerlist.xlsx')\n",
        "\n",
        "df_customeraddress.to_excel('output_customeraddress.xlsx', index=False)\n",
        "files.download('output_customeraddress.xlsx')"
      ]
    }
  ],
  "metadata": {
    "colab": {
      "provenance": []
    },
    "kernelspec": {
      "display_name": "Python 3",
      "name": "python3"
    },
    "language_info": {
      "name": "python"
    }
  },
  "nbformat": 4,
  "nbformat_minor": 0
}